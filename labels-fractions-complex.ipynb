{
 "nbformat": 4,
 "nbformat_minor": 2,
 "metadata": {
  "language_info": {
   "name": "python",
   "codemirror_mode": {
    "name": "ipython",
    "version": 3
   }
  },
  "orig_nbformat": 2,
  "file_extension": ".py",
  "mimetype": "text/x-python",
  "name": "python",
  "npconvert_exporter": "python",
  "pygments_lexer": "ipython3",
  "version": 3
 },
 "cells": [
  {
   "cell_type": "markdown",
   "execution_count": null,
   "metadata": {},
   "outputs": [],
   "source": [
    "<h1>Labels, Fractions and Complex Numbers</h1>"
   ]
  },
  {
   "cell_type": "markdown",
   "execution_count": null,
   "metadata": {},
   "outputs": [],
   "source": [
    "<h4>Attaching names to numbers.</h4>"
   ]
  },
  {
   "cell_type": "code",
   "execution_count": null,
   "metadata": {},
   "outputs": [],
   "source": [
    "a = 3\n",
    "a + 1\n",
    "#>>> 4\n",
    "\n",
    "a = 5\n",
    "a + 1\n",
    "#>>> 6"
   ]
  },
  {
   "cell_type": "markdown",
   "execution_count": null,
   "metadata": {},
   "outputs": [],
   "source": [
    "<h4>Different kinds of numbers.</h4>"
   ]
  },
  {
   "cell_type": "code",
   "execution_count": null,
   "metadata": {},
   "outputs": [],
   "source": [
    "type(3)\n",
    "#>>> <class 'int'>\n",
    "\n",
    "type(3.5)\n",
    "#>>> <class 'float'>\n",
    "\n",
    "type(3.0)\n",
    "#>>> <class 'float'>\n",
    "\n",
    "#Converting float to int.\n",
    "int(3.8)\n",
    "#>>> 3\n",
    "\n",
    "int(3.0)\n",
    "#>>> 3\n",
    "\n",
    "#Convrting int to float.\n",
    "float(3)\n",
    "#>>> 3.0"
   ]
  },
  {
   "cell_type": "markdown",
   "execution_count": null,
   "metadata": {},
   "outputs": [],
   "source": [
    "<h4>Fractions.</h4>"
   ]
  },
  {
   "cell_type": "code",
   "execution_count": null,
   "metadata": {},
   "outputs": [],
   "source": [
    "from fractions import Fraction\n",
    "f = Fraction(3, 4)\n",
    "print(f)\n",
    "#>>> Fraction(3, 4)\n",
    "\n",
    "#You can also combine a fraction, an integer, and a floating point number in a single expression.\n",
    "Fraction(3, 4) + 1 + 1.5\n",
    "#>>> 3.25\n",
    "\n",
    "#When you have only a fraction and an integer the result is a fraction.\n",
    "Fraction(3, 4) + 1 + Fraction(1/4)\n",
    "#>>> Fraction(2, 1)"
   ]
  },
  {
   "cell_type": "markdown",
   "execution_count": null,
   "metadata": {},
   "outputs": [],
   "source": [
    "<h4>Complex Numbers.</h4>"
   ]
  },
  {
   "cell_type": "code",
   "execution_count": null,
   "metadata": {},
   "outputs": [],
   "source": [
    "a = 2 + 3j\n",
    "type(a)\n",
    "#>>> <class 'complex'>\n",
    "\n",
    "#complex() function.\n",
    "a = complex(2, 3)\n",
    "print(a)\n",
    "#>>> (2, 3j)\n",
    "\n",
    "#Adding and Subtracting.\n",
    "b = 3 = 3j\n",
    "a + b\n",
    "#>>> (5 + 6j)\n",
    "\n",
    "a - b\n",
    "#>>> (-1 + 0j)\n",
    "\n",
    "#Multiplication and Division.\n",
    "a * b\n",
    "#>>> (-3 + 15j)\n",
    "\n",
    "a / b\n",
    "#>>> (0.8333333333333334 + 0.16666666666666666j)\n",
    "\n",
    "#The modulus ( % ) and the floor division ( // ) operations are not valid for complex numbers.\n",
    "\n",
    "#The real and imaginary parts of a complex number can be retrieved using its real and imag attributes.\n",
    "z = 2 + 3j\n",
    "\n",
    "z.real\n",
    "#>>> 2.0\n",
    "z.imag\n",
    "#>>> 3.0\n",
    "\n",
    "#The conjugate of a complex number has the same real part but an imaginary part with an equal magnitude and an opposite sign.\n",
    "z.conjugate\n",
    "#>>> (2 - 3j)\n",
    "\n",
    "#Using the real and imaginary parts, you can then calculate the magnitude of a complex number.\n",
    "(z.real ** 2 + z.imag ** 2) ** 0.5\n",
    "###> 3.605551275463989\n",
    "\n",
    "#A simpler way to find the magnitude of a complex number is with the abs() function.\n",
    "abs(5)\n",
    "###> 5\n",
    "abs(-5)\n",
    "###> 5\n",
    "abs(z)\n",
    "###> 3.605551275463989"
   ]
  }
 ]
}