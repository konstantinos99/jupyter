{
 "nbformat": 4,
 "nbformat_minor": 2,
 "metadata": {
  "language_info": {
   "name": "python",
   "codemirror_mode": {
    "name": "ipython",
    "version": 3
   },
   "version": "3.7.5"
  },
  "orig_nbformat": 2,
  "file_extension": ".py",
  "mimetype": "text/x-python",
  "name": "python",
  "npconvert_exporter": "python",
  "pygments_lexer": "ipython3",
  "version": 3
 },
 "cells": [
  {
   "cell_type": "markdown",
   "metadata": {},
   "outputs": [],
   "source": [
    "<h1> Input and Exceptions</h1>"
   ]
  },
  {
   "cell_type": "markdown",
   "execution_count": null,
   "metadata": {},
   "outputs": [],
   "source": [
    "<h4>User Input</h4>"
   ]
  },
  {
   "cell_type": "code",
   "metadata": {},
   "outputs": [],
   "source": [
    "#We type '1' and it get's assigned to the variable 'a'.\n",
    "a = input()\n",
    "#>>> 1 \n",
    "\n",
    "#The input() function returns the input as a string.\n",
    "print(a)\n",
    "#>>> '1'\n",
    "\n",
    "#Before we can perform any mathematical operations with the input, we’ll have to convert it into the correct number type.\n",
    "a = '1'\n",
    "int(a) + 1\n",
    "#>>> 2\n",
    "\n",
    "float(a) + 1\n",
    "#>>> 2.0"
   ]
  },
  {
   "cell_type": "code",
   "execution_count": null,
   "metadata": {},
   "outputs": [],
   "source": [
    "#This is an example of an exception. In this case, the exception is of the type ValueError.\n",
    "int('2.0')\n",
    "#>>> ... ValueError: invalid literal for int() with base 10: '2.0'\n",
    "\n",
    "#Similarly, when you supply a fractional number such as 3/4 as an input, Python cannot convert it into an equivalent floating point number or integer. Once again, a ValueError exception is raised.\n",
    "\n",
    "a = float(input())\n",
    "#>>> 3/4\n",
    "\n",
    "# ...ValueError: could not convert string to float: '3/4'"
   ]
  },
  {
   "cell_type": "markdown",
   "execution_count": null,
   "metadata": {},
   "outputs": [],
   "source": [
    "<h4>Handling Exceptions</h4>"
   ]
  },
  {
   "cell_type": "code",
   "execution_count": null,
   "metadata": {},
   "outputs": [],
   "source": [
    "try:\n",
    "    a = float(input('Enter a number: '))\n",
    "except ValueError:\n",
    "    print('You entered an invalid number')\n",
    "\n",
    "#Enter a number: 3/4\n",
    "#>>> You entered an invalid number"
   ]
  },
  {
   "cell_type": "markdown",
   "execution_count": null,
   "metadata": {},
   "outputs": [],
   "source": [
    "<h4>Fractions and Complex Numbers as Input</h4>"
   ]
  },
  {
   "cell_type": "code",
   "execution_count": null,
   "metadata": {},
   "outputs": [],
   "source": [
    "a = Fraction(input('Enter a fraction: '))\n",
    "#Enter a fraction: 3/4\n",
    "#>>>a\n",
    "#Fraction(3, 4)\n",
    "\n",
    "#The ZeroDivisionError exception message tells you that a fraction with a denominator of 0 is invalid.\n",
    "a = Fraction(input('Enter a fraction: '))\n",
    "#Enter a fraction: 3/0\n",
    "# ... ZeroDivisionError: Fraction(3, 0)\n",
    "\n",
    "try:\n",
    "    a = Fraction(input('Enter a fraction: '))\n",
    "except ZeroDivisionError:\n",
    "    print('Invalid fraction')\n",
    "#Enter a fraction: 3/0\n",
    "#Invalid fraction\n",
    "\n",
    "#Similarly, the complex() function can convert a string such as '2+3j' into a complex number.\n",
    "z = complex(input('Enter a complex number: '))\n",
    "#Enter a complex number: 2+3j\n",
    "#>>> z\n",
    "#(2+3j)\n",
    "\n",
    "z = complex(input('Enter a complex number: '))\n",
    "#Enter a complex number: 2 + 3j\n",
    "# ...ValueError: complex() arg is malformed string"
   ]
  }
 ]
}