{
 "nbformat": 4,
 "nbformat_minor": 2,
 "metadata": {
  "language_info": {
   "name": "python",
   "codemirror_mode": {
    "name": "ipython",
    "version": 3
   },
   "version": "3.7.5"
  },
  "orig_nbformat": 2,
  "file_extension": ".py",
  "mimetype": "text/x-python",
  "name": "python",
  "npconvert_exporter": "python",
  "pygments_lexer": "ipython3",
  "version": 3
 },
 "cells": [
  {
   "cell_type": "markdown",
   "metadata": {},
   "outputs": [],
   "source": [
    "<h1>Basic Mathematical Operations</h1>"
   ]
  },
  {
   "cell_type": "markdown",
   "metadata": {},
   "outputs": [],
   "source": [
    "<h4>Addition ( + ) and subtraction ( – ) operators.</h5>"
   ]
  },
  {
   "cell_type": "code",
   "metadata": {},
   "outputs": [],
   "source": [
    "1 + 2\n",
    "#>>> 3\n",
    "\n",
    "1 + 3.5\n",
    "#>>> 4.5\n",
    "\n",
    "-1 + 2.5\n",
    "#>>> 1.5\n",
    "\n",
    "100 - 45\n",
    "#>>> 55\n",
    "\n",
    "-1.1 + 5\n",
    "#>>> 3.9"
   ]
  },
  {
   "cell_type": "markdown",
   "metadata": {},
   "outputs": [],
   "source": [
    "<h4>Multiplication (*) operator.</h4>"
   ]
  },
  {
   "cell_type": "code",
   "metadata": {},
   "outputs": [],
   "source": [
    "3 * 2\n",
    "#>>> 6\n",
    "\n",
    "3.5 * 1.5\n",
    "#>>> 5.25\n"
   ]
  },
  {
   "cell_type": "markdown",
   "metadata": {},
   "outputs": [],
   "source": [
    "<h4>Division (/) operator.</h4>"
   ]
  },
  {
   "cell_type": "code",
   "metadata": {},
   "outputs": [],
   "source": [
    "3 / 2\n",
    "#>>> 1.5\n",
    "\n",
    "4 / 2\n",
    "#>>> 2.0\n",
    "\n",
    "#If you want the result in the form of an integer, with any decimal values removed, you should use the floor division (//) operator.\n",
    "\n",
    "3 // 2\n",
    "#>>> 1\n",
    "\n",
    "-3 // 2\n",
    "#>> -2\n",
    "\n",
    "#If you want just the remainder, you should use the modulo (%)operator.\n",
    "\n",
    "9 % 2\n",
    "#>>> 1\n"
   ]
  },
  {
   "cell_type": "markdown",
   "metadata": {},
   "outputs": [],
   "source": [
    "<h4>Exponential (**) operator.</h4>"
   ]
  },
  {
   "cell_type": "code",
   "metadata": {},
   "outputs": [],
   "source": [
    "2 ** 2\n",
    "#>>> 4\n",
    "\n",
    "2 ** 10\n",
    "#>>> 1024\n",
    "\n",
    "1 ** 10\n",
    "#>>> 1"
   ]
  },
  {
   "cell_type": "markdown",
   "metadata": {},
   "outputs": [],
   "source": [
    "<h4>The square root of a number n can be expressed as n<sup>1/2</sup> and the cube root as n<sup>1/3</sup>.</h4>"
   ]
  },
  {
   "cell_type": "code",
   "metadata": {},
   "outputs": [],
   "source": [
    "8 ** (1/3)\n",
    "#>>> 2.0"
   ]
  },
  {
   "cell_type": "markdown",
   "metadata": {},
   "outputs": [],
   "source": [
    "<h4>Python will evaluate the expression following the standard PEMDAS rule for the order of calculations—parentheses, exponents, multiplication,division, addition, and subtraction.</h4>"
   ]
  },
  {
   "cell_type": "code",
   "metadata": {},
   "outputs": [],
   "source": [
    "5 + 5 * 5\n",
    "#>>> 30\n",
    "\n",
    "(5 + 5) * 5\n",
    "#>>> 50"
   ]
  }
 ]
}